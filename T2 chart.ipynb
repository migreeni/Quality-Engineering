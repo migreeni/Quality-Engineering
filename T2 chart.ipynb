{
 "cells": [
  {
   "cell_type": "markdown",
   "metadata": {},
   "source": [
    "# Import packages"
   ]
  },
  {
   "cell_type": "code",
   "execution_count": 1,
   "metadata": {},
   "outputs": [],
   "source": [
    "import os\n",
    "import numpy as np\n",
    "import pandas as pd\n",
    "import matplotlib.pyplot as plt\n",
    "\n",
    "from tabulate import tabulate\n",
    "from scipy.stats import beta\n",
    "\n",
    "import pandas as pd\n",
    "import numpy as np\n",
    "from numpy.random import gamma\n",
    "from numpy.random import multivariate_normal\n",
    "from scipy.stats import multivariate_t\n",
    "from scipy.stats import f\n",
    "import matplotlib.pyplot as plt"
   ]
  },
  {
   "cell_type": "markdown",
   "metadata": {},
   "source": [
    "# Load dataset"
   ]
  },
  {
   "cell_type": "code",
   "execution_count": 12,
   "metadata": {},
   "outputs": [],
   "source": [
    "# load example datas\n",
    "data = pd.read_csv('dataset.csv')\n",
    "new_data = data.iloc[:50,1:7] # 첫 50개 행만 데이터로 사용\n",
    "d2 = [0, 0, 1.128, 1.693, 2.059, 2.326, 2.534, 2.704, 2.847, 2.970, 3.078]\n"
   ]
  },
  {
   "cell_type": "code",
   "execution_count": 13,
   "metadata": {},
   "outputs": [],
   "source": [
    "def t_square(data, alpha: float = None):\n",
    "    \n",
    "    array_data = np.array(data)\n",
    "    num_sample = len(data)\n",
    "    \n",
    "    p = array_data.shape[1]\n",
    "    \n",
    "    col_mean = np.mean(array_data, axis=0)  # column mean\n",
    "    mat_cov = np.cov(array_data.T)  # covariance\n",
    "    mat_inv_s = np.linalg.inv(mat_cov)  # inverse S\n",
    "    \n",
    "    values = []\n",
    "    for sample in array_data:\n",
    "        dif = sample - col_mean\n",
    "        value = mat_inv_s.dot(dif.T).dot(dif)  # T-square\n",
    "        values.append(value)\n",
    "    \n",
    "    CL = (np.power((num_sample -1), 2)) / num_sample\n",
    "    LCL = 0\n",
    "    UCL = CL * beta.ppf((1-alpha), p/2, (num_sample - p - 1)/2)\n",
    "            \n",
    "    return values, LCL, UCL "
   ]
  },
  {
   "cell_type": "code",
   "execution_count": null,
   "metadata": {},
   "outputs": [],
   "source": [
    "alphas = np.arange(0.05, 0.5, 0.05)\n",
    "\n",
    "for alpha in alphas:\n",
    "    values, LCL, UCL = t_square(new_data, alpha=alpha)\n",
    "    \n",
    "    plt.plot(values, marker='o', color='r')\n",
    "    plt.axhline(UCL, color='r', label='UCL', linestyle='--')\n",
    "    # plt.axhline(center, color='black', label='Center')\n",
    "    plt.axhline(LCL, color='b', label='LCL', linestyle='--')\n",
    "    plt.legend()\n",
    "    plt.title(f'T-square Control Chart, alpha = {np.round(alpha,3)}')\n",
    "    plt.xlabel('Observation')\n",
    "    plt.show()\n",
    "    "
   ]
  }
 ],
 "metadata": {
  "kernelspec": {
   "display_name": "base",
   "language": "python",
   "name": "python3"
  },
  "language_info": {
   "codemirror_mode": {
    "name": "ipython",
    "version": 3
   },
   "file_extension": ".py",
   "mimetype": "text/x-python",
   "name": "python",
   "nbconvert_exporter": "python",
   "pygments_lexer": "ipython3",
   "version": "3.11.7"
  }
 },
 "nbformat": 4,
 "nbformat_minor": 2
}
